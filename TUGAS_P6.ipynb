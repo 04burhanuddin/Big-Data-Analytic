{
 "cells": [
  {
   "cell_type": "code",
   "execution_count": 1,
   "id": "dutch-banks",
   "metadata": {},
   "outputs": [
    {
     "name": "stdout",
     "output_type": "stream",
     "text": [
      "                               Region                Country        Item_Type  \\\n",
      "0               Australia and Oceania                 Tuvalu        Baby Food   \n",
      "1   Central America and the Caribbean                Grenada           Cereal   \n",
      "2                              Europe                 Russia  Office Supplies   \n",
      "3                  Sub-Saharan Africa  Sao Tome and Principe           Fruits   \n",
      "4                  Sub-Saharan Africa                 Rwanda  Office Supplies   \n",
      "..                                ...                    ...              ...   \n",
      "95                 Sub-Saharan Africa                   Mali          Clothes   \n",
      "96                               Asia               Malaysia           Fruits   \n",
      "97                 Sub-Saharan Africa           Sierra Leone       Vegetables   \n",
      "98                      North America                 Mexico    Personal Care   \n",
      "99                 Sub-Saharan Africa             Mozambique        Household   \n",
      "\n",
      "   Sales_Channel Order_Priority  Order_Date   Order_ID   Ship_Date  \\\n",
      "0        Offline              H   5/28/2010  669165933   6/27/2010   \n",
      "1         Online              C   8/22/2012  963881480   9/15/2012   \n",
      "2        Offline              L    5/2/2014  341417157    5/8/2014   \n",
      "3         Online              C   6/20/2014  514321792    7/5/2014   \n",
      "4        Offline              L    2/1/2013  115456712    2/6/2013   \n",
      "..           ...            ...         ...        ...         ...   \n",
      "95        Online              M   7/26/2011  512878119    9/3/2011   \n",
      "96       Offline              L  11/11/2011  810711038  12/28/2011   \n",
      "97       Offline              C    6/1/2016  728815257   6/29/2016   \n",
      "98       Offline              M   7/30/2015  559427106    8/8/2015   \n",
      "99       Offline              L   2/10/2012  665095412   2/15/2012   \n",
      "\n",
      "    Units_Sold  Unit_Price  Unit_Cost  Total_Revenue  Total_Cost  Total_Profit  \n",
      "0         9925      255.28     159.42     2533654.00  1582243.50     951410.50  \n",
      "1         2804      205.70     117.11      576782.80   328376.44     248406.36  \n",
      "2         1779      651.21     524.96     1158502.59   933903.84     224598.75  \n",
      "3         8102        9.33       6.92       75591.66    56065.84      19525.82  \n",
      "4         5062      651.21     524.96     3296425.02  2657347.52     639077.50  \n",
      "..         ...         ...        ...            ...         ...           ...  \n",
      "95         888      109.28      35.84       97040.64    31825.92      65214.72  \n",
      "96        6267        9.33       6.92       58471.11    43367.64      15103.47  \n",
      "97        1485      154.06      90.93      228779.10   135031.05      93748.05  \n",
      "98        5767       81.73      56.67      471336.91   326815.89     144521.02  \n",
      "99        5367      668.27     502.54     3586605.09  2697132.18     889472.91  \n",
      "\n",
      "[100 rows x 14 columns]\n"
     ]
    }
   ],
   "source": [
    "import pandas as pd\n",
    "import openpyxl\n",
    "df_csv = pd.read_csv(\"100 sales.csv\")\n",
    "print(df_csv)"
   ]
  },
  {
   "cell_type": "code",
   "execution_count": null,
   "id": "impressive-directive",
   "metadata": {},
   "outputs": [],
   "source": []
  }
 ],
 "metadata": {
  "kernelspec": {
   "display_name": "Python 3",
   "language": "python",
   "name": "python3"
  },
  "language_info": {
   "codemirror_mode": {
    "name": "ipython",
    "version": 3
   },
   "file_extension": ".py",
   "mimetype": "text/x-python",
   "name": "python",
   "nbconvert_exporter": "python",
   "pygments_lexer": "ipython3",
   "version": "3.8.5"
  }
 },
 "nbformat": 4,
 "nbformat_minor": 5
}
