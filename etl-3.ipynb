{
 "cells": [
  {
   "cell_type": "code",
   "execution_count": 2,
   "id": "formed-barrel",
   "metadata": {},
   "outputs": [
    {
     "name": "stdout",
     "output_type": "stream",
     "text": [
      "     nik             nama      job_id\n",
      "0    206    William Gietz  AC_ACCOUNT\n",
      "1    205  Shelley Higgins      AC_MGR\n",
      "2    200  Jennifer Whalen     AD_ASST\n",
      "3    100      Steven King     AD_PRES\n",
      "4    101    Neena Kochhar       AD_VP\n",
      "..   ...              ...         ...\n",
      "105  123   Shanta Vollman      ST_MAN\n",
      "106  124    Kevin Mourgos      ST_MAN\n",
      "0    403             Rina      SA_REP\n",
      "1    404             Toro     IT_SUPP\n",
      "3    406             Rini      SA_REP\n",
      "\n",
      "[110 rows x 3 columns]\n"
     ]
    }
   ],
   "source": [
    "import pandas as pd\n",
    "import openpyxl\n",
    "df_csv = pd.read_csv(\"pegawai_cab01.csv\")\n",
    "df_csv_filter = df_csv[['nik','nama','job_id']]\n",
    "\n",
    "\n",
    "df_excel = pd.read_excel(\"pegawai_cab02.xlsx\")\n",
    "df_excel_filter = df_excel[df_excel['status']!='OUT']\n",
    "df_excel_filter = df_excel_filter[['nik','nama','job']]\n",
    "df_excel_filter = df_excel_filter.rename(columns={'job':'job_id'})\n",
    "\n",
    "df_gabung = df_csv_filter.append(df_excel_filter)\n",
    "\n",
    "print(df_gabung)"
   ]
  },
  {
   "cell_type": "code",
   "execution_count": null,
   "id": "southern-soccer",
   "metadata": {},
   "outputs": [],
   "source": []
  }
 ],
 "metadata": {
  "kernelspec": {
   "display_name": "Python 3",
   "language": "python",
   "name": "python3"
  },
  "language_info": {
   "codemirror_mode": {
    "name": "ipython",
    "version": 3
   },
   "file_extension": ".py",
   "mimetype": "text/x-python",
   "name": "python",
   "nbconvert_exporter": "python",
   "pygments_lexer": "ipython3",
   "version": "3.8.5"
  }
 },
 "nbformat": 4,
 "nbformat_minor": 5
}
