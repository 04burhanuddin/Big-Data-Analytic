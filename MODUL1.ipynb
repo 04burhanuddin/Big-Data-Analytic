{
 "cells": [
  {
   "cell_type": "code",
   "execution_count": 2,
   "id": "variable-raising",
   "metadata": {},
   "outputs": [
    {
     "name": "stdout",
     "output_type": "stream",
     "text": [
      "Hello World\n",
      "Nilai a =  12\n"
     ]
    }
   ],
   "source": [
    "print (\"Hello World\")\n",
    "\n",
    "x = 12\n",
    "print (\"Nilai a = \", x)"
   ]
  },
  {
   "cell_type": "code",
   "execution_count": 3,
   "id": "inside-guidance",
   "metadata": {},
   "outputs": [
    {
     "name": "stdout",
     "output_type": "stream",
     "text": [
      "Hi.. How are you?\n",
      "My name is Burhanuddin\n"
     ]
    }
   ],
   "source": [
    "print ('Hi.. How are you?')\n",
    "print('My name is \\\n",
    "Burhanuddin')"
   ]
  },
  {
   "cell_type": "code",
   "execution_count": 4,
   "id": "becoming-night",
   "metadata": {},
   "outputs": [
    {
     "name": "stdout",
     "output_type": "stream",
     "text": [
      "40\n"
     ]
    }
   ],
   "source": [
    "x=4\n",
    "y=\\\n",
    "10\n",
    "print(x*y)"
   ]
  },
  {
   "cell_type": "code",
   "execution_count": 5,
   "id": "unique-projection",
   "metadata": {},
   "outputs": [
    {
     "name": "stdout",
     "output_type": "stream",
     "text": [
      "50\n"
     ]
    }
   ],
   "source": [
    "l=10\n",
    "b=5\n",
    "print(l*b)"
   ]
  },
  {
   "cell_type": "code",
   "execution_count": 6,
   "id": "stuffed-disabled",
   "metadata": {},
   "outputs": [
    {
     "name": "stdout",
     "output_type": "stream",
     "text": [
      "9.0\n"
     ]
    }
   ],
   "source": [
    "t=6\n",
    "a=3\n",
    "print(0.5*t*a)"
   ]
  }
 ],
 "metadata": {
  "kernelspec": {
   "display_name": "Python 3",
   "language": "python",
   "name": "python3"
  },
  "language_info": {
   "codemirror_mode": {
    "name": "ipython",
    "version": 3
   },
   "file_extension": ".py",
   "mimetype": "text/x-python",
   "name": "python",
   "nbconvert_exporter": "python",
   "pygments_lexer": "ipython3",
   "version": "3.8.5"
  }
 },
 "nbformat": 4,
 "nbformat_minor": 5
}
