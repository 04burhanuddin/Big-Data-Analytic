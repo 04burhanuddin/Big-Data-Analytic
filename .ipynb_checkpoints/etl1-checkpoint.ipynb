{
 "cells": [
  {
   "cell_type": "code",
   "execution_count": 2,
   "id": "offensive-abortion",
   "metadata": {},
   "outputs": [
    {
     "name": "stdout",
     "output_type": "stream",
     "text": [
      "     nik             nama      job_id\n",
      "0    206    William Gietz  AC_ACCOUNT\n",
      "1    205  Shelley Higgins      AC_MGR\n",
      "2    200  Jennifer Whalen     AD_ASST\n",
      "3    100      Steven King     AD_PRES\n",
      "4    101    Neena Kochhar       AD_VP\n",
      "..   ...              ...         ...\n",
      "102  120    Matthew Weiss      ST_MAN\n",
      "103  121       Adam Fripp      ST_MAN\n",
      "104  122   Payam Kaufling      ST_MAN\n",
      "105  123   Shanta Vollman      ST_MAN\n",
      "106  124    Kevin Mourgos      ST_MAN\n",
      "\n",
      "[107 rows x 3 columns]\n"
     ]
    }
   ],
   "source": [
    "import pandas as pd\n",
    "df_csv = pd.read_csv(\"pegawai_cab01.csv\")\n",
    "\n",
    "df_csv_filter = df_csv[['nik','nama','job_id']]\n",
    "print(df_csv_filter)"
   ]
  },
  {
   "cell_type": "code",
   "execution_count": null,
   "id": "neural-commons",
   "metadata": {},
   "outputs": [],
   "source": []
  }
 ],
 "metadata": {
  "kernelspec": {
   "display_name": "Python 3",
   "language": "python",
   "name": "python3"
  },
  "language_info": {
   "codemirror_mode": {
    "name": "ipython",
    "version": 3
   },
   "file_extension": ".py",
   "mimetype": "text/x-python",
   "name": "python",
   "nbconvert_exporter": "python",
   "pygments_lexer": "ipython3",
   "version": "3.8.5"
  }
 },
 "nbformat": 4,
 "nbformat_minor": 5
}
