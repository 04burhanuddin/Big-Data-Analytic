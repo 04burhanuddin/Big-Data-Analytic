{
 "cells": [
  {
   "cell_type": "code",
   "execution_count": null,
   "id": "representative-ivory",
   "metadata": {},
   "outputs": [],
   "source": [
    "from twitterscraper import query_tweets\n",
    "import datetime as dt\n",
    "import pandas as pd\n",
    "begin_date = dt.date(2021, 3, 7)\n",
    "end_date = dt.date(2021, 3, 9)\n",
    "limit = 1000\n",
    "lang = 'english'\n",
    "tweets = query_tweets(\"lele\", begindate = begin_date, enddate = end_date, limit = limit, lang = lang)\n",
    "df = pd.DataFrame(t.__dict__for t in tweets)"
   ]
  },
  {
   "cell_type": "code",
   "execution_count": null,
   "id": "quality-paste",
   "metadata": {},
   "outputs": [],
   "source": []
  }
 ],
 "metadata": {
  "kernelspec": {
   "display_name": "Python 3",
   "language": "python",
   "name": "python3"
  },
  "language_info": {
   "codemirror_mode": {
    "name": "ipython",
    "version": 3
   },
   "file_extension": ".py",
   "mimetype": "text/x-python",
   "name": "python",
   "nbconvert_exporter": "python",
   "pygments_lexer": "ipython3",
   "version": "3.8.5"
  }
 },
 "nbformat": 4,
 "nbformat_minor": 5
}
