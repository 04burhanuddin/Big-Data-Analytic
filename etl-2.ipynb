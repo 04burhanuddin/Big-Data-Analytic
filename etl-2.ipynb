{
 "cells": [
  {
   "cell_type": "code",
   "execution_count": 5,
   "id": "martial-breeding",
   "metadata": {
    "scrolled": true
   },
   "outputs": [
    {
     "name": "stdout",
     "output_type": "stream",
     "text": [
      "   nik  nama   job_id\n",
      "0  403  Rina   SA_REP\n",
      "1  404  Toro  IT_SUPP\n",
      "3  406  Rini   SA_REP\n"
     ]
    }
   ],
   "source": [
    "import pandas as pd\n",
    "import openpyxl\n",
    "\n",
    "df_excel = pd.read_excel(\"pegawai_cab02.xlsx\")\n",
    "df_excel_filter = df_excel[df_excel['status']!='OUT']\n",
    "df_excel_filter = df_excel_filter[['nik','nama','job']]\n",
    "df_excel_filter = df_excel_filter.rename(columns={'job':'job_id'})\n",
    "print(df_excel_filter)"
   ]
  },
  {
   "cell_type": "code",
   "execution_count": null,
   "id": "comic-update",
   "metadata": {},
   "outputs": [],
   "source": []
  },
  {
   "cell_type": "code",
   "execution_count": null,
   "id": "funky-jaguar",
   "metadata": {},
   "outputs": [],
   "source": []
  },
  {
   "cell_type": "code",
   "execution_count": null,
   "id": "front-oracle",
   "metadata": {},
   "outputs": [],
   "source": []
  }
 ],
 "metadata": {
  "kernelspec": {
   "display_name": "Python 3",
   "language": "python",
   "name": "python3"
  },
  "language_info": {
   "codemirror_mode": {
    "name": "ipython",
    "version": 3
   },
   "file_extension": ".py",
   "mimetype": "text/x-python",
   "name": "python",
   "nbconvert_exporter": "python",
   "pygments_lexer": "ipython3",
   "version": "3.8.5"
  }
 },
 "nbformat": 4,
 "nbformat_minor": 5
}
