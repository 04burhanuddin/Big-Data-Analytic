{
 "cells": [
  {
   "cell_type": "code",
   "execution_count": null,
   "id": "front-seminar",
   "metadata": {},
   "outputs": [],
   "source": [
    "import math\n",
    "import pi as pi"
   ]
  },
  {
   "cell_type": "code",
   "execution_count": 2,
   "id": "mysterious-surge",
   "metadata": {},
   "outputs": [
    {
     "name": "stdout",
     "output_type": "stream",
     "text": [
      "Masukan nama anda :Burhanuddin\n",
      "Masukan umur:20\n",
      "Memasukan jurusan:Informatika\n",
      "Masukan IPK:4.00\n",
      "====Cetak====\n",
      "Nama Anda :Burhanuddin\n",
      "Umur Anda :20\n",
      "Jurusan Anda :Informatika\n",
      "IPK Anda :4.0\n"
     ]
    }
   ],
   "source": [
    "nama = input(\"Masukan nama anda :\")\n",
    "umur = int(input(\"Masukan umur:\"))\n",
    "jur = input(\"Memasukan jurusan:\")\n",
    "ipk = float(input(\"Masukan IPK:\"))\n",
    "\n",
    "print(\"====Cetak====\")\n",
    "print(\"Nama Anda :\" + nama)\n",
    "print(\"Umur Anda :\" + str(umur))\n",
    "print(\"Jurusan Anda :\" + jur)\n",
    "print(\"IPK Anda :\" + str(ipk))"
   ]
  },
  {
   "cell_type": "code",
   "execution_count": 3,
   "id": "english-shopper",
   "metadata": {},
   "outputs": [
    {
     "name": "stdout",
     "output_type": "stream",
     "text": [
      "Mencari f(x)=2x^3+2x+15/2\n",
      "-------------------------\n",
      "Nilai :80\n",
      "Hasil: 512087.5\n"
     ]
    }
   ],
   "source": [
    "print('Mencari f(x)=2x^3+2x+15/2')\n",
    "print('-------------------------')\n",
    "\n",
    "x = int(input(\"Nilai :\"))\n",
    "d = ((2*x**3)+(2*x)+15)/2\n",
    "print(\"Hasil:\", d)"
   ]
  },
  {
   "cell_type": "code",
   "execution_count": 4,
   "id": "focal-relay",
   "metadata": {},
   "outputs": [
    {
     "name": "stdout",
     "output_type": "stream",
     "text": [
      "Penetuan bilangan genap atauu ganjil\n",
      "------------------------------------\n",
      "Bilangan =79\n",
      "bilangan 79 merupakan bilangan ganjil\n"
     ]
    }
   ],
   "source": [
    "print('Penetuan bilangan genap atauu ganjil')\n",
    "print('------------------------------------')\n",
    "\n",
    "bilangan = int (input('Bilangan ='))\n",
    "\n",
    "if bilangan % 2 == 0:\n",
    "    print('Bilangan',bilangan,'merupakan bilangan genap')\n",
    "\n",
    "else:\n",
    "    print('bilangan', bilangan,'merupakan bilangan ganjil')"
   ]
  },
  {
   "cell_type": "code",
   "execution_count": 5,
   "id": "seasonal-blackjack",
   "metadata": {},
   "outputs": [
    {
     "name": "stdout",
     "output_type": "stream",
     "text": [
      "Penghitungan huruf\n",
      "------------------\n",
      "Masukan StringHelloWorld\n",
      "Jumlah huruf kapital = 2\n",
      "jumlah huruf kecil = 8\n"
     ]
    }
   ],
   "source": [
    "print('Penghitungan huruf')\n",
    "print('------------------')\n",
    "\n",
    "teks = input('Masukan String')\n",
    "\n",
    "jumHurufKapital = 0\n",
    "jumHurufKecil = 0\n",
    "\n",
    "for j in range(0, len(teks)):\n",
    "    kar = teks[j]\n",
    "    if kar.isupper():\n",
    "        jumHurufKapital = jumHurufKapital + 1\n",
    "    elif kar.islower():\n",
    "        jumHurufKecil = jumHurufKecil + 1\n",
    "\n",
    "print('Jumlah huruf kapital =', jumHurufKapital)\n",
    "print('jumlah huruf kecil =', jumHurufKecil)\n"
   ]
  },
  {
   "cell_type": "code",
   "execution_count": null,
   "id": "forced-upper",
   "metadata": {},
   "outputs": [],
   "source": [
    "import math\n",
    "jejari = float(input(\"Jari-jari:\"))\n",
    "luas = 2*pi*jejari*jejari\n",
    "print(\"Luas %5f\"%(luas))"
   ]
  },
  {
   "cell_type": "code",
   "execution_count": 16,
   "id": "frank-right",
   "metadata": {},
   "outputs": [
    {
     "name": "stdout",
     "output_type": "stream",
     "text": [
      "Say something:Burhan\n",
      "HiBurhan\n"
     ]
    }
   ],
   "source": [
    "try: input = raw_input\n",
    "except NameError: pass\n",
    "print(\"Hi\"+input(\"Say something:\"))"
   ]
  }
 ],
 "metadata": {
  "kernelspec": {
   "display_name": "Python 3",
   "language": "python",
   "name": "python3"
  },
  "language_info": {
   "codemirror_mode": {
    "name": "ipython",
    "version": 3
   },
   "file_extension": ".py",
   "mimetype": "text/x-python",
   "name": "python",
   "nbconvert_exporter": "python",
   "pygments_lexer": "ipython3",
   "version": "3.8.5"
  }
 },
 "nbformat": 4,
 "nbformat_minor": 5
}
